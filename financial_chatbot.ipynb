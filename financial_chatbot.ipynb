{
 "cells": [
  {
   "cell_type": "code",
   "execution_count": 2,
   "metadata": {},
   "outputs": [
    {
     "data": {
      "application/vnd.jupyter.widget-view+json": {
       "model_id": "83a170804b344da8bfadfdb0398a45c1",
       "version_major": 2,
       "version_minor": 0
      },
      "text/plain": [
       "Dropdown(description='Metric:', options=('Total Revenue', 'Net Income', 'Total Assets', 'Total Liabilities', '…"
      ]
     },
     "metadata": {},
     "output_type": "display_data"
    },
    {
     "data": {
      "application/vnd.jupyter.widget-view+json": {
       "model_id": "2926a44ddb2a4d5b808c4f8b0f3ae0c8",
       "version_major": 2,
       "version_minor": 0
      },
      "text/plain": [
       "Dropdown(description='Company:', options=('Apple', 'Microsoft', 'Tesla'), value='Apple')"
      ]
     },
     "metadata": {},
     "output_type": "display_data"
    },
    {
     "data": {
      "application/vnd.jupyter.widget-view+json": {
       "model_id": "c611d0b9ef8d40f183ca36d77697adc1",
       "version_major": 2,
       "version_minor": 0
      },
      "text/plain": [
       "Text(value='', description='Year:', placeholder='e.g., 2023')"
      ]
     },
     "metadata": {},
     "output_type": "display_data"
    },
    {
     "data": {
      "application/vnd.jupyter.widget-view+json": {
       "model_id": "1b6cb1a5ac4d4c7b85cd66194e148699",
       "version_major": 2,
       "version_minor": 0
      },
      "text/plain": [
       "Button(description='Get Data', style=ButtonStyle())"
      ]
     },
     "metadata": {},
     "output_type": "display_data"
    },
    {
     "data": {
      "application/vnd.jupyter.widget-view+json": {
       "model_id": "b0455650e6e74a16a9e2c7b31c7211fa",
       "version_major": 2,
       "version_minor": 0
      },
      "text/plain": [
       "Output()"
      ]
     },
     "metadata": {},
     "output_type": "display_data"
    }
   ],
   "source": [
    "import pandas as pd\n",
    "import ipywidgets as widgets\n",
    "from IPython.display import display\n",
    "\n",
    "# Load the CSV file\n",
    "df = pd.read_csv(\"C:\\\\Users\\\\user\\\\Desktop\\\\k10\\\\financial_data.csv\")\n",
    "\n",
    "# Define available metrics\n",
    "available_metrics = [\n",
    "    'Total Revenue', 'Net Income', 'Total Assets', 'Total Liabilities',\n",
    "    'Cash Flow Operating Activities', 'Revenue Growth (%)', 'Net Income Growth (%)',\n",
    "    'ROE (%)', 'ROA (%)', 'Net Income Variance'\n",
    "]\n",
    "\n",
    "# Create widgets\n",
    "metric_dropdown = widgets.Dropdown(\n",
    "    options=available_metrics,\n",
    "    description='Metric:',\n",
    ")\n",
    "\n",
    "company_dropdown = widgets.Dropdown(\n",
    "    options=['Apple', 'Microsoft', 'Tesla'],\n",
    "    description='Company:',\n",
    ")\n",
    "\n",
    "year_text = widgets.Text(\n",
    "    description='Year:',\n",
    "    placeholder='e.g., 2023'\n",
    ")\n",
    "\n",
    "output = widgets.Output()\n",
    "\n",
    "def on_button_click(b):\n",
    "    with output:\n",
    "        metric = metric_dropdown.value\n",
    "        company = company_dropdown.value\n",
    "        year = year_text.value\n",
    "        \n",
    "        if not year.isdigit() or len(year) != 4:\n",
    "            print(\"Invalid year. Please enter a valid year in the format YYYY.\")\n",
    "            return\n",
    "        \n",
    "        result = df[(df['Company'] == company) & (df['Year'] == int(year))]\n",
    "        \n",
    "        if not result.empty:\n",
    "            metric_value = result[metric].values[0]\n",
    "            print(f\"The {metric} for {company} in {year} is {metric_value:,.2f}.\")\n",
    "        else:\n",
    "            print(f\"No data found for {company} in {year}.\")\n",
    "\n",
    "button = widgets.Button(description=\"Get Data\")\n",
    "button.on_click(on_button_click)\n",
    "\n",
    "display(metric_dropdown, company_dropdown, year_text, button, output)\n"
   ]
  },
  {
   "cell_type": "markdown",
   "metadata": {},
   "source": [
    "\n",
    "# Chatbot Documentation\n",
    "\n",
    "## Introduction\n",
    "This document provides a summary of the chatbot developed for retrieving financial metrics from a CSV file. The chatbot is designed to answer queries related to various financial metrics, allowing users to get specific data based on their input.\n",
    "\n",
    "\n",
    "## Installation and Setup\n",
    "\n",
    "To set up the environment for the chatbot, follow these installation steps:\n",
    "\n",
    "1. **Install Pandas:**\n",
    "   Pandas is used for data manipulation and analysis. Install it using the following command:\n",
    "   ```python\n",
    "   !pip install pandas\n",
    "   ```\n",
    "\n",
    "2. **Install ipywidgets:**\n",
    "   `ipywidgets` is used to create interactive widgets in Jupyter Notebook, enhancing the user interface of the chatbot. Install it using:\n",
    "   ```python\n",
    "   !pip install ipywidgets\n",
    "   ```\n",
    "   After installation, enable widgets for Jupyter by running:\n",
    "   ```python\n",
    "   !jupyter nbextension enable --py widgetsnbextension\n",
    "   ```\n",
    "\n",
    "## How It Works\n",
    "\n",
    "1. **Starting the Chatbot:**\n",
    "   When the chatbot is initiated, it prompts the user to select a financial metric from a predefined list.\n",
    "\n",
    "2. **Selecting Financial Metrics:**\n",
    "   The user is required to choose a metric from the following options:\n",
    "   - Total Revenue\n",
    "   - Net Income\n",
    "   - Total Assets\n",
    "   - Total Liabilities\n",
    "   - Cash Flow Operating Activities\n",
    "   - Revenue Growth (%)\n",
    "   - Net Income Growth (%)\n",
    "   - ROE (%)\n",
    "   - ROA (%)\n",
    "   - Net Income Variance\n",
    "\n",
    "3. **Providing Company and Year Information:**\n",
    "   After selecting a metric, the user is asked to specify the company name and the year for which they want the data.\n",
    "\n",
    "4. **Retrieving and Displaying Data:**\n",
    "   The chatbot retrieves the requested data from the CSV file and displays it based on the user’s query.\n",
    "\n",
    "## Example Interaction\n",
    "\n",
    "Here is an example of how the chatbot functions:\n",
    "\n",
    "- **User Input:** \"What is the total revenue for Apple in 2023?\"\n",
    "  - **Response:** \"The Total Revenue for Apple in 2023 is 245,122,000,000.\"\n",
    "\n",
    "- **User Input:** \"What is the Net Income for Microsoft in 2024?\"\n",
    "  - **Response:** \"The Net Income for Microsoft in 2024 is 120,000,000,000.\"\n",
    "\n",
    "## Predefined Queries\n",
    "\n",
    "The chatbot supports the following queries:\n",
    "\n",
    "- **Total Revenue:** Total income generated by the company.\n",
    "- **Net Income:** Profit after all expenses.\n",
    "- **Total Assets:** Total value of assets owned by the company.\n",
    "- **Total Liabilities:** Total amount of debts owed by the company.\n",
    "- **Cash Flow Operating Activities:** Cash generated from the company’s operations.\n",
    "- **Revenue Growth (%):** Percentage increase in revenue.\n",
    "- **Net Income Growth (%):** Percentage increase in net income.\n",
    "- **ROE (%):** Return on Equity, measure of profitability relative to shareholder equity.\n",
    "- **ROA (%):** Return on Assets, measure of profitability relative to total assets.\n",
    "- **Net Income Variance:** Difference between actual and expected net income.\n",
    "\n",
    "## Limitations\n",
    "\n",
    "- The chatbot only supports the predefined metrics listed above.\n",
    "- It does not handle complex input errors beyond basic validation (e.g., invalid metric names).\n",
    "- The chatbot assumes the CSV file is formatted correctly and contains all necessary data.\n",
    "\n",
    "## Conclusion\n",
    "\n",
    "This documentation provides a comprehensive overview of the chatbot's setup, functionality, and limitations. The chatbot offers a simple yet effective way to retrieve and view financial metrics using an interactive interface created with `ipywidgets`."
   ]
  }
 ],
 "metadata": {
  "kernelspec": {
   "display_name": "venv",
   "language": "python",
   "name": "python3"
  },
  "language_info": {
   "codemirror_mode": {
    "name": "ipython",
    "version": 3
   },
   "file_extension": ".py",
   "mimetype": "text/x-python",
   "name": "python",
   "nbconvert_exporter": "python",
   "pygments_lexer": "ipython3",
   "version": "3.12.6"
  }
 },
 "nbformat": 4,
 "nbformat_minor": 2
}
